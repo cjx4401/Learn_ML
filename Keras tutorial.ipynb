{
 "cells": [
  {
   "cell_type": "code",
   "execution_count": 3,
   "metadata": {},
   "outputs": [],
   "source": [
    "import numpy as np\n",
    "from keras import layers\n",
    "from keras.layers import Input, Dense, Activation, ZeroPadding2D, BatchNormalization, Flatten, Conv2D\n",
    "from keras.layers import AveragePooling2D, MaxPooling2D, Dropout, GlobalMaxPooling2D, GlobalAveragePooling2D\n",
    "from keras.models import Model\n",
    "from keras.preprocessing import image\n",
    "from keras.utils import layer_utils\n",
    "from keras.utils.data_utils import get_file\n",
    "from keras.applications.imagenet_utils import preprocess_input\n",
    "import pydot\n",
    "from IPython.display import SVG\n",
    "from keras.utils.vis_utils import model_to_dot\n",
    "from keras.utils import plot_model\n",
    "from kt_utils import *\n",
    "\n",
    "import keras.backend as K\n",
    "K.set_image_data_format('channels_last')\n",
    "import matplotlib.pyplot as plt\n",
    "from matplotlib.pyplot import imshow\n",
    "\n",
    "%matplotlib inline"
   ]
  },
  {
   "cell_type": "markdown",
   "metadata": {},
   "source": [
    "<h1>data shape</h1>"
   ]
  },
  {
   "cell_type": "code",
   "execution_count": 5,
   "metadata": {},
   "outputs": [
    {
     "name": "stdout",
     "output_type": "stream",
     "text": [
      "number of training examples = 600\n",
      "number of test examples = 150\n",
      "X_train shape: (600, 64, 64, 3)\n",
      "Y_train shape: (600, 1)\n",
      "X_test shape: (150, 64, 64, 3)\n",
      "Y_test shape: (150, 1)\n"
     ]
    }
   ],
   "source": [
    "X_train_orig, Y_train_orig, X_test_orig, Y_test_orig, classes = load_dataset()\n",
    "\n",
    "X_train = X_train_orig/255.\n",
    "X_test = X_test_orig/255.\n",
    "\n",
    "Y_train = Y_train_orig.T\n",
    "Y_test = Y_test_orig.T\n",
    "\n",
    "print (\"number of training examples = \" + str(X_train.shape[0]))\n",
    "print (\"number of test examples = \" + str(X_test.shape[0]))\n",
    "print (\"X_train shape: \" + str(X_train.shape))\n",
    "print (\"Y_train shape: \" + str(Y_train.shape))\n",
    "print (\"X_test shape: \" + str(X_test.shape))\n",
    "print (\"Y_test shape: \" + str(Y_test.shape))"
   ]
  },
  {
   "cell_type": "code",
   "execution_count": 11,
   "metadata": {},
   "outputs": [
    {
     "name": "stdout",
     "output_type": "stream",
     "text": [
      "y = 1\n",
      "y = 1\n"
     ]
    },
    {
     "data": {
      "image/png": "[encoded data removed]",
      "text/plain": [
       "<Figure size 432x288 with 1 Axes>"
      ]
     },
     "metadata": {},
     "output_type": "display_data"
    }
   ],
   "source": [
    "index = 3\n",
    "plt.imshow(X_train_orig[index])\n",
    "print (\"y = \" + str(np.squeeze(Y_train_orig[:, index])))\n",
    "print (\"y = \" + str((Y_train_orig[0, index])))"
   ]
  },
  {
   "cell_type": "code",
   "execution_count": 12,
   "metadata": {},
   "outputs": [],
   "source": [
    "\n"
   ]
  },
  {
   "cell_type": "code",
   "execution_count": 13,
   "metadata": {},
   "outputs": [],
   "source": [
    "def HappyModel(input_shape):\n",
    "    \"\"\"\n",
    "    实现一个检测笑容的模型\n",
    "\n",
    "    参数：\n",
    "        input_shape - 输入的数据的维度\n",
    "    返回：\n",
    "        model - 创建的Keras的模型\n",
    "\n",
    "    \"\"\"\n",
    "\n",
    "    \n",
    "    X_input = Input(input_shape)\n",
    "\n",
    "    #使用0填充：X_input的周围填充0\n",
    "    X = ZeroPadding2D((3, 3))(X_input)\n",
    "\n",
    "    #对X使用 CONV -> BN -> RELU 块\n",
    "    X = Conv2D(32, (7, 7), strides=(1, 1), name='conv0')(X)\n",
    "    X = BatchNormalization(axis=3, name='bn0')(X)\n",
    "    X = Activation('relu')(X)\n",
    "\n",
    "    #最大值池化层\n",
    "    X = MaxPooling2D((2, 2), name='max_pool')(X)\n",
    "\n",
    "    #降维，矩阵转化为向量 + 全连接层\n",
    "    X = Flatten()(X)\n",
    "    X = Dense(1, activation='sigmoid', name='fc')(X)\n",
    "\n",
    "    #创建模型，讲话创建一个模型的实体，我们可以用它来训练、测试。\n",
    "    model = Model(inputs=X_input, outputs=X, name='HappyModel')\n",
    "\n",
    "    return model\n"
   ]
  },
  {
   "cell_type": "code",
   "execution_count": 14,
   "metadata": {},
   "outputs": [
    {
     "name": "stdout",
     "output_type": "stream",
     "text": [
      "WARNING:tensorflow:From D:\\soft\\conda\\lib\\site-packages\\tensorflow\\python\\framework\\op_def_library.py:263: colocate_with (from tensorflow.python.framework.ops) is deprecated and will be removed in a future version.\n",
      "Instructions for updating:\n",
      "Colocations handled automatically by placer.\n"
     ]
    }
   ],
   "source": [
    "happyModel = HappyModel(X_train.shape[1:])"
   ]
  },
  {
   "cell_type": "code",
   "execution_count": 15,
   "metadata": {},
   "outputs": [],
   "source": [
    "happyModel.compile('adam', 'binary_crossentropy', metrics=['accuracy'])"
   ]
  },
  {
   "cell_type": "code",
   "execution_count": 29,
   "metadata": {},
   "outputs": [
    {
     "data": {
      "text/plain": [
       "(600, 64, 64, 3)"
      ]
     },
     "execution_count": 29,
     "metadata": {},
     "output_type": "execute_result"
    }
   ],
   "source": [
    "X_train.shape"
   ]
  },
  {
   "cell_type": "code",
   "execution_count": 16,
   "metadata": {
    "scrolled": true
   },
   "outputs": [
    {
     "name": "stdout",
     "output_type": "stream",
     "text": [
      "WARNING:tensorflow:From D:\\soft\\conda\\lib\\site-packages\\tensorflow\\python\\ops\\math_ops.py:3066: to_int32 (from tensorflow.python.ops.math_ops) is deprecated and will be removed in a future version.\n",
      "Instructions for updating:\n",
      "Use tf.cast instead.\n",
      "Epoch 1/40\n",
      "600/600 [==============================] - 9s 15ms/step - loss: 2.8657 - acc: 0.5417\n",
      "Epoch 2/40\n",
      "600/600 [==============================] - 8s 14ms/step - loss: 0.7854 - acc: 0.7150\n",
      "Epoch 3/40\n",
      "600/600 [==============================] - 9s 15ms/step - loss: 0.3705 - acc: 0.8350\n",
      "Epoch 4/40\n",
      "600/600 [==============================] - 9s 14ms/step - loss: 0.2149 - acc: 0.9100\n",
      "Epoch 5/40\n",
      "600/600 [==============================] - 9s 14ms/step - loss: 0.1533 - acc: 0.9367\n",
      "Epoch 6/40\n",
      "600/600 [==============================] - 9s 14ms/step - loss: 0.1441 - acc: 0.9383\n",
      "Epoch 7/40\n",
      "600/600 [==============================] - 8s 14ms/step - loss: 0.0945 - acc: 0.9717\n",
      "Epoch 8/40\n",
      "600/600 [==============================] - 8s 14ms/step - loss: 0.0811 - acc: 0.9733\n",
      "Epoch 9/40\n",
      "600/600 [==============================] - 8s 14ms/step - loss: 0.0787 - acc: 0.9783\n",
      "Epoch 10/40\n",
      "600/600 [==============================] - 8s 14ms/step - loss: 0.0873 - acc: 0.9750\n",
      "Epoch 11/40\n",
      "600/600 [==============================] - 8s 14ms/step - loss: 0.0650 - acc: 0.9850\n",
      "Epoch 12/40\n",
      "600/600 [==============================] - 8s 14ms/step - loss: 0.0640 - acc: 0.9767\n",
      "Epoch 13/40\n",
      "600/600 [==============================] - 8s 14ms/step - loss: 0.0542 - acc: 0.9850\n",
      "Epoch 14/40\n",
      "600/600 [==============================] - 8s 14ms/step - loss: 0.0509 - acc: 0.9883\n",
      "Epoch 15/40\n",
      "600/600 [==============================] - 8s 14ms/step - loss: 0.0452 - acc: 0.9917\n",
      "Epoch 16/40\n",
      "600/600 [==============================] - 8s 14ms/step - loss: 0.0371 - acc: 0.9917\n",
      "Epoch 17/40\n",
      "600/600 [==============================] - 9s 14ms/step - loss: 0.0445 - acc: 0.9883\n",
      "Epoch 18/40\n",
      "600/600 [==============================] - 8s 14ms/step - loss: 0.0489 - acc: 0.9833\n",
      "Epoch 19/40\n",
      "600/600 [==============================] - 8s 14ms/step - loss: 0.0518 - acc: 0.9833\n",
      "Epoch 20/40\n",
      "600/600 [==============================] - 8s 14ms/step - loss: 0.0418 - acc: 0.9883\n",
      "Epoch 21/40\n",
      "600/600 [==============================] - 8s 14ms/step - loss: 0.0383 - acc: 0.9867\n",
      "Epoch 22/40\n",
      "600/600 [==============================] - 10s 16ms/step - loss: 0.0368 - acc: 0.9917\n",
      "Epoch 23/40\n",
      "600/600 [==============================] - 8s 14ms/step - loss: 0.0344 - acc: 0.9883\n",
      "Epoch 24/40\n",
      "600/600 [==============================] - 9s 14ms/step - loss: 0.0227 - acc: 0.9950\n",
      "Epoch 25/40\n",
      "600/600 [==============================] - 9s 15ms/step - loss: 0.0401 - acc: 0.9883\n",
      "Epoch 26/40\n",
      "600/600 [==============================] - 8s 14ms/step - loss: 0.0267 - acc: 0.9950\n",
      "Epoch 27/40\n",
      "600/600 [==============================] - 9s 14ms/step - loss: 0.0221 - acc: 0.9933\n",
      "Epoch 28/40\n",
      "600/600 [==============================] - 8s 14ms/step - loss: 0.0251 - acc: 0.9900\n",
      "Epoch 29/40\n",
      "600/600 [==============================] - 8s 14ms/step - loss: 0.0262 - acc: 0.9917\n",
      "Epoch 30/40\n",
      "600/600 [==============================] - 8s 14ms/step - loss: 0.0188 - acc: 0.9950\n",
      "Epoch 31/40\n",
      "600/600 [==============================] - 10s 17ms/step - loss: 0.0263 - acc: 0.9917\n",
      "Epoch 32/40\n",
      "600/600 [==============================] - 9s 16ms/step - loss: 0.0248 - acc: 0.9900\n",
      "Epoch 33/40\n",
      "600/600 [==============================] - 9s 16ms/step - loss: 0.0141 - acc: 1.0000\n",
      "Epoch 34/40\n",
      "600/600 [==============================] - 10s 16ms/step - loss: 0.0221 - acc: 0.9950\n",
      "Epoch 35/40\n",
      "600/600 [==============================] - 10s 17ms/step - loss: 0.0362 - acc: 0.9867\n",
      "Epoch 36/40\n",
      "600/600 [==============================] - 9s 16ms/step - loss: 0.0325 - acc: 0.9917\n",
      "Epoch 37/40\n",
      "600/600 [==============================] - 9s 15ms/step - loss: 0.0256 - acc: 0.9900\n",
      "Epoch 38/40\n",
      "600/600 [==============================] - 10s 16ms/step - loss: 0.0328 - acc: 0.9917\n",
      "Epoch 39/40\n",
      "600/600 [==============================] - 9s 15ms/step - loss: 0.0311 - acc: 0.9900\n",
      "Epoch 40/40\n",
      "600/600 [==============================] - 9s 15ms/step - loss: 0.0169 - acc: 0.9967\n"
     ]
    },
    {
     "data": {
      "text/plain": [
       "<keras.callbacks.History at 0x18237c68a20>"
      ]
     },
     "execution_count": 16,
     "metadata": {},
     "output_type": "execute_result"
    }
   ],
   "source": [
    "happyModel.fit(X_train, Y_train, epochs=40, batch_size=50)"
   ]
  },
  {
   "cell_type": "code",
   "execution_count": 17,
   "metadata": {},
   "outputs": [
    {
     "name": "stdout",
     "output_type": "stream",
     "text": [
      "150/150 [==============================] - 1s 5ms/step\n",
      "\n",
      "Loss = 0.09392527818679809\n",
      "Test Accuracy = 0.9600000039736429\n"
     ]
    }
   ],
   "source": [
    "preds = happyModel.evaluate(X_test, Y_test, batch_size=32, verbose=1, sample_weight=None)\n",
    "print()\n",
    "print (\"Loss = \" + str(preds[0]))\n",
    "print (\"Test Accuracy = \" + str(preds[1]))"
   ]
  },
  {
   "cell_type": "code",
   "execution_count": 18,
   "metadata": {},
   "outputs": [
    {
     "data": {
      "text/plain": [
       "[0.09392527818679809, 0.9600000039736429]"
      ]
     },
     "execution_count": 18,
     "metadata": {},
     "output_type": "execute_result"
    }
   ],
   "source": [
    "preds"
   ]
  },
  {
   "cell_type": "code",
   "execution_count": null,
   "metadata": {},
   "outputs": [],
   "source": []
  },
  {
   "cell_type": "markdown",
   "metadata": {},
   "source": [
    "<h1>查看一下</h1>"
   ]
  },
  {
   "cell_type": "code",
   "execution_count": 22,
   "metadata": {},
   "outputs": [],
   "source": [
    "import scipy\n",
    "from scipy import ndimage"
   ]
  },
  {
   "cell_type": "code",
   "execution_count": 24,
   "metadata": {},
   "outputs": [
    {
     "data": {
      "text/plain": [
       "array([1], dtype=int64)"
      ]
     },
     "execution_count": 24,
     "metadata": {},
     "output_type": "execute_result"
    }
   ],
   "source": [
    "Y_test[0]"
   ]
  },
  {
   "cell_type": "code",
   "execution_count": 28,
   "metadata": {},
   "outputs": [
    {
     "data": {
      "text/plain": [
       "(64, 64, 3)"
      ]
     },
     "execution_count": 28,
     "metadata": {},
     "output_type": "execute_result"
    }
   ],
   "source": [
    "X_test[0].shape"
   ]
  },
  {
   "cell_type": "code",
   "execution_count": 31,
   "metadata": {},
   "outputs": [],
   "source": [
    "x1=X_test[0].reshape(-1,64,64,3)"
   ]
  },
  {
   "cell_type": "code",
   "execution_count": 32,
   "metadata": {},
   "outputs": [],
   "source": [
    "\n",
    "my_image_prediction = happyModel.predict(x1)"
   ]
  },
  {
   "cell_type": "code",
   "execution_count": 33,
   "metadata": {},
   "outputs": [
    {
     "data": {
      "text/plain": [
       "array([[0.99960905]], dtype=float32)"
      ]
     },
     "execution_count": 33,
     "metadata": {},
     "output_type": "execute_result"
    }
   ],
   "source": [
    "my_image_prediction"
   ]
  },
  {
   "cell_type": "code",
   "execution_count": 35,
   "metadata": {},
   "outputs": [
    {
     "data": {
      "text/plain": [
       "<matplotlib.image.AxesImage at 0x1823f36eb38>"
      ]
     },
     "execution_count": 35,
     "metadata": {},
     "output_type": "execute_result"
    },
    {
     "data": {
      "image/png": "[encoded data removed]",
      "text/plain": [
       "<Figure size 432x288 with 1 Axes>"
      ]
     },
     "metadata": {},
     "output_type": "display_data"
    }
   ],
   "source": [
    "plt.imshow(X_test[0])"
   ]
  },
  {
   "cell_type": "code",
   "execution_count": 36,
   "metadata": {},
   "outputs": [
    {
     "name": "stdout",
     "output_type": "stream",
     "text": [
      "_________________________________________________________________\n",
      "Layer (type)                 Output Shape              Param #   \n",
      "=================================================================\n",
      "input_1 (InputLayer)         (None, 64, 64, 3)         0         \n",
      "_________________________________________________________________\n",
      "zero_padding2d_1 (ZeroPaddin (None, 70, 70, 3)         0         \n",
      "_________________________________________________________________\n",
      "conv0 (Conv2D)               (None, 64, 64, 32)        4736      \n",
      "_________________________________________________________________\n",
      "bn0 (BatchNormalization)     (None, 64, 64, 32)        128       \n",
      "_________________________________________________________________\n",
      "activation_1 (Activation)    (None, 64, 64, 32)        0         \n",
      "_________________________________________________________________\n",
      "max_pool (MaxPooling2D)      (None, 32, 32, 32)        0         \n",
      "_________________________________________________________________\n",
      "flatten_1 (Flatten)          (None, 32768)             0         \n",
      "_________________________________________________________________\n",
      "fc (Dense)                   (None, 1)                 32769     \n",
      "=================================================================\n",
      "Total params: 37,633\n",
      "Trainable params: 37,569\n",
      "Non-trainable params: 64\n",
      "_________________________________________________________________\n"
     ]
    }
   ],
   "source": [
    "happyModel.summary()"
   ]
  },
  {
   "cell_type": "code",
   "execution_count": null,
   "metadata": {},
   "outputs": [],
   "source": []
  },
  {
   "cell_type": "code",
   "execution_count": null,
   "metadata": {},
   "outputs": [],
   "source": []
  }
 ],
 "metadata": {
  "kernelspec": {
   "display_name": "Python 3",
   "language": "python",
   "name": "python3"
  },
  "language_info": {
   "codemirror_mode": {
    "name": "ipython",
    "version": 3
   },
   "file_extension": ".py",
   "mimetype": "text/x-python",
   "name": "python",
   "nbconvert_exporter": "python",
   "pygments_lexer": "ipython3",
   "version": "3.6.5"
  }
 },
 "nbformat": 4,
 "nbformat_minor": 2
}
